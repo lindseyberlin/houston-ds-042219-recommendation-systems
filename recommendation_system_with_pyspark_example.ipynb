{
 "cells": [
  {
   "cell_type": "code",
   "execution_count": 3,
   "metadata": {},
   "outputs": [
    {
     "ename": "ValueError",
     "evalue": "Couldn't find Spark, make sure SPARK_HOME env is set or Spark is in an expected location (e.g. from homebrew installation).",
     "output_type": "error",
     "traceback": [
      "\u001b[0;31m---------------------------------------------------------------------------\u001b[0m",
      "\u001b[0;31mValueError\u001b[0m                                Traceback (most recent call last)",
      "\u001b[0;32m<ipython-input-3-df90242042b0>\u001b[0m in \u001b[0;36m<module>\u001b[0;34m\u001b[0m\n\u001b[1;32m      1\u001b[0m \u001b[0;31m# importing some libraries\u001b[0m\u001b[0;34m\u001b[0m\u001b[0;34m\u001b[0m\u001b[0;34m\u001b[0m\u001b[0m\n\u001b[1;32m      2\u001b[0m \u001b[0;32mimport\u001b[0m \u001b[0mfindspark\u001b[0m\u001b[0;34m\u001b[0m\u001b[0;34m\u001b[0m\u001b[0m\n\u001b[0;32m----> 3\u001b[0;31m \u001b[0mfindspark\u001b[0m\u001b[0;34m.\u001b[0m\u001b[0minit\u001b[0m\u001b[0;34m(\u001b[0m\u001b[0;34m)\u001b[0m\u001b[0;34m\u001b[0m\u001b[0;34m\u001b[0m\u001b[0m\n\u001b[0m\u001b[1;32m      4\u001b[0m \u001b[0;32mimport\u001b[0m \u001b[0mos\u001b[0m\u001b[0;34m\u001b[0m\u001b[0;34m\u001b[0m\u001b[0m\n\u001b[1;32m      5\u001b[0m \u001b[0;34m\u001b[0m\u001b[0m\n",
      "\u001b[0;32m/anaconda3/lib/python3.7/site-packages/findspark.py\u001b[0m in \u001b[0;36minit\u001b[0;34m(spark_home, python_path, edit_rc, edit_profile)\u001b[0m\n\u001b[1;32m    120\u001b[0m \u001b[0;34m\u001b[0m\u001b[0m\n\u001b[1;32m    121\u001b[0m     \u001b[0;32mif\u001b[0m \u001b[0;32mnot\u001b[0m \u001b[0mspark_home\u001b[0m\u001b[0;34m:\u001b[0m\u001b[0;34m\u001b[0m\u001b[0;34m\u001b[0m\u001b[0m\n\u001b[0;32m--> 122\u001b[0;31m         \u001b[0mspark_home\u001b[0m \u001b[0;34m=\u001b[0m \u001b[0mfind\u001b[0m\u001b[0;34m(\u001b[0m\u001b[0;34m)\u001b[0m\u001b[0;34m\u001b[0m\u001b[0;34m\u001b[0m\u001b[0m\n\u001b[0m\u001b[1;32m    123\u001b[0m \u001b[0;34m\u001b[0m\u001b[0m\n\u001b[1;32m    124\u001b[0m     \u001b[0;32mif\u001b[0m \u001b[0;32mnot\u001b[0m \u001b[0mpython_path\u001b[0m\u001b[0;34m:\u001b[0m\u001b[0;34m\u001b[0m\u001b[0;34m\u001b[0m\u001b[0m\n",
      "\u001b[0;32m/anaconda3/lib/python3.7/site-packages/findspark.py\u001b[0m in \u001b[0;36mfind\u001b[0;34m()\u001b[0m\n\u001b[1;32m     31\u001b[0m \u001b[0;34m\u001b[0m\u001b[0m\n\u001b[1;32m     32\u001b[0m     \u001b[0;32mif\u001b[0m \u001b[0;32mnot\u001b[0m \u001b[0mspark_home\u001b[0m\u001b[0;34m:\u001b[0m\u001b[0;34m\u001b[0m\u001b[0;34m\u001b[0m\u001b[0m\n\u001b[0;32m---> 33\u001b[0;31m         raise ValueError(\"Couldn't find Spark, make sure SPARK_HOME env is set\"\n\u001b[0m\u001b[1;32m     34\u001b[0m                          \" or Spark is in an expected location (e.g. from homebrew installation).\")\n\u001b[1;32m     35\u001b[0m \u001b[0;34m\u001b[0m\u001b[0m\n",
      "\u001b[0;31mValueError\u001b[0m: Couldn't find Spark, make sure SPARK_HOME env is set or Spark is in an expected location (e.g. from homebrew installation)."
     ]
    }
   ],
   "source": [
    "# importing some libraries\n",
    "import findspark\n",
    "findspark.init()\n",
    "import os\n",
    "\n",
    "import numpy as np\n",
    "import pandas as pd\n",
    "import pyspark\n",
    "from pyspark.sql import SQLContext\n",
    "\n",
    "conf = (pyspark.SparkConf().setAppName('test').set(\"spark.executor.memory\", \"2g\").setMaster(\"local[2]\"))\n",
    "sc = pyspark.SparkContext(conf=conf)\n",
    "\n",
    "\n",
    "sqlContext = SQLContext(sc)"
   ]
  },
  {
   "cell_type": "markdown",
   "metadata": {},
   "source": [
    "#### MovieLens data: [https://grouplens.org/datasets/movielens/](https://grouplens.org/datasets/movielens/)"
   ]
  },
  {
   "cell_type": "code",
   "execution_count": 33,
   "metadata": {},
   "outputs": [
    {
     "data": {
      "text/plain": [
       "100000"
      ]
     },
     "execution_count": 33,
     "metadata": {},
     "output_type": "execute_result"
    }
   ],
   "source": [
    "#Get the data here http://grouplens.org/datasets/movielens/\n",
    "movielens = sc.textFile(\"ml-100k/u.data\")\n",
    "\n",
    "movielens.first() #u'196\\t242\\t3\\t881250949'\n",
    "movielens.count() #100000\n"
   ]
  },
  {
   "cell_type": "code",
   "execution_count": 34,
   "metadata": {},
   "outputs": [
    {
     "data": {
      "text/plain": [
       "ml-100k/u.data MapPartitionsRDD[297] at textFile at NativeMethodAccessorImpl.java:0"
      ]
     },
     "execution_count": 34,
     "metadata": {},
     "output_type": "execute_result"
    }
   ],
   "source": [
    "movielens"
   ]
  },
  {
   "cell_type": "code",
   "execution_count": 4,
   "metadata": {},
   "outputs": [],
   "source": [
    "#Clean up the data by splitting it\n",
    "#Movielens readme says the data is split by tabs and\n",
    "#is user product rating timestamp\n",
    "clean_data = movielens.map(lambda x:x.split('\\t'))"
   ]
  },
  {
   "cell_type": "code",
   "execution_count": 5,
   "metadata": {},
   "outputs": [
    {
     "data": {
      "text/plain": [
       "3.5298600000000024"
      ]
     },
     "execution_count": 5,
     "metadata": {},
     "output_type": "execute_result"
    }
   ],
   "source": [
    "#As an example, extract just the ratings to its own RDD\n",
    "#rate.first() is 3\n",
    "rate = clean_data.map(lambda y: int(y[2]))\n",
    "rate.mean() #Avg rating is 3.52986\n"
   ]
  },
  {
   "cell_type": "code",
   "execution_count": 6,
   "metadata": {},
   "outputs": [
    {
     "data": {
      "text/plain": [
       "943"
      ]
     },
     "execution_count": 6,
     "metadata": {},
     "output_type": "execute_result"
    }
   ],
   "source": [
    "#Extract just the users\n",
    "users = clean_data.map(lambda y: int(y[0]))\n",
    "users.distinct().count() #943 users\n"
   ]
  },
  {
   "cell_type": "code",
   "execution_count": 7,
   "metadata": {},
   "outputs": [
    {
     "data": {
      "text/plain": [
       "1682"
      ]
     },
     "execution_count": 7,
     "metadata": {},
     "output_type": "execute_result"
    }
   ],
   "source": [
    "#You don't have to extract data to its own RDD\n",
    "#This command counts the distinct movies\n",
    "#There are 1,682 movies\n",
    "clean_data.map(lambda y: int(y[1])).distinct().count() \n"
   ]
  },
  {
   "cell_type": "code",
   "execution_count": 11,
   "metadata": {},
   "outputs": [],
   "source": [
    "#Need to import three functions / objects from the MLlib\n",
    "from pyspark.mllib.recommendation import ALS,MatrixFactorizationModel, Rating\n",
    "\n",
    "#We'll need to map the movielens data to a Ratings object \n",
    "#A Ratings object is made up of (user, item, rating)\n",
    "mls = movielens.map(lambda l: l.split('\\t'))\n",
    "ratings = mls.map(lambda x: Rating(int(x[0]),int(x[1]), float(x[2])))\n",
    "\n",
    "#Need a training and test set\n",
    "train, test = ratings.randomSplit([0.7,0.3],7856)"
   ]
  },
  {
   "cell_type": "code",
   "execution_count": 12,
   "metadata": {},
   "outputs": [
    {
     "data": {
      "text/plain": [
       "69939"
      ]
     },
     "execution_count": 12,
     "metadata": {},
     "output_type": "execute_result"
    }
   ],
   "source": [
    "train.count()"
   ]
  },
  {
   "cell_type": "code",
   "execution_count": 13,
   "metadata": {},
   "outputs": [
    {
     "data": {
      "text/plain": [
       "30061"
      ]
     },
     "execution_count": 13,
     "metadata": {},
     "output_type": "execute_result"
    }
   ],
   "source": [
    "test.count()"
   ]
  },
  {
   "cell_type": "code",
   "execution_count": 14,
   "metadata": {},
   "outputs": [
    {
     "data": {
      "text/plain": [
       "PythonRDD[22] at RDD at PythonRDD.scala:53"
      ]
     },
     "execution_count": 14,
     "metadata": {},
     "output_type": "execute_result"
    }
   ],
   "source": [
    "#Need to cache the data to speed up training\n",
    "train.cache()\n",
    "test.cache()\n"
   ]
  },
  {
   "cell_type": "code",
   "execution_count": 15,
   "metadata": {},
   "outputs": [],
   "source": [
    "#Setting up the parameters for ALS\n",
    "rank = 5 # Latent Factors to be made\n",
    "numIterations = 10 # Times to repeat process\n",
    "#Create the model on the training data\n",
    "model = ALS.train(train, rank, numIterations)\n"
   ]
  },
  {
   "cell_type": "code",
   "execution_count": 17,
   "metadata": {},
   "outputs": [
    {
     "data": {
      "text/plain": [
       "(2,\n",
       " array('d', [-0.47366243600845337, 0.2726004719734192, 1.2456307411193848, 0.8580869436264038, -0.8408119082450867]))"
      ]
     },
     "execution_count": 17,
     "metadata": {},
     "output_type": "execute_result"
    }
   ],
   "source": [
    "#Examine the latent features for one product\n",
    "model.productFeatures().first()"
   ]
  },
  {
   "cell_type": "code",
   "execution_count": 18,
   "metadata": {},
   "outputs": [
    {
     "data": {
      "text/plain": [
       "(2,\n",
       " array('d', [-1.2704147100448608, -0.6064961552619934, 0.8071704506874084, 1.206157922744751, -0.766410768032074]))"
      ]
     },
     "execution_count": 18,
     "metadata": {},
     "output_type": "execute_result"
    }
   ],
   "source": [
    "#Examine the latent features for one user\n",
    "model.userFeatures().first()"
   ]
  },
  {
   "cell_type": "code",
   "execution_count": 19,
   "metadata": {},
   "outputs": [
    {
     "data": {
      "text/plain": [
       "[Rating(user=219, product=242, rating=7.280133160104819),\n",
       " Rating(user=50, product=242, rating=7.265627019721686),\n",
       " Rating(user=362, product=242, rating=6.35277359356703),\n",
       " Rating(user=731, product=242, rating=6.148359019935889),\n",
       " Rating(user=928, product=242, rating=6.009240899167956),\n",
       " Rating(user=895, product=242, rating=5.9621013910294165),\n",
       " Rating(user=240, product=242, rating=5.6891964934033545),\n",
       " Rating(user=174, product=242, rating=5.678547172772404),\n",
       " Rating(user=316, product=242, rating=5.644106911289798),\n",
       " Rating(user=691, product=242, rating=5.633779339496025),\n",
       " Rating(user=310, product=242, rating=5.601809726899805),\n",
       " Rating(user=4, product=242, rating=5.568101938395715),\n",
       " Rating(user=519, product=242, rating=5.5676255738371765),\n",
       " Rating(user=147, product=242, rating=5.543100756546043),\n",
       " Rating(user=153, product=242, rating=5.540357870400628),\n",
       " Rating(user=414, product=242, rating=5.465356673650458),\n",
       " Rating(user=142, product=242, rating=5.4345974383432285),\n",
       " Rating(user=765, product=242, rating=5.422086483262117),\n",
       " Rating(user=112, product=242, rating=5.411055075241396),\n",
       " Rating(user=67, product=242, rating=5.380284179880931),\n",
       " Rating(user=511, product=242, rating=5.367705143944029),\n",
       " Rating(user=34, product=242, rating=5.340989641215884),\n",
       " Rating(user=353, product=242, rating=5.321540164974422),\n",
       " Rating(user=93, product=242, rating=5.291637241536819),\n",
       " Rating(user=427, product=242, rating=5.277384698121697),\n",
       " Rating(user=242, product=242, rating=5.272297489025995),\n",
       " Rating(user=440, product=242, rating=5.2694066954789065),\n",
       " Rating(user=228, product=242, rating=5.260258876944718),\n",
       " Rating(user=849, product=242, rating=5.226175702293861),\n",
       " Rating(user=46, product=242, rating=5.2068183654591245),\n",
       " Rating(user=861, product=242, rating=5.188319536764833),\n",
       " Rating(user=270, product=242, rating=5.1765642720458125),\n",
       " Rating(user=341, product=242, rating=5.153581345363243),\n",
       " Rating(user=803, product=242, rating=5.122927779833777),\n",
       " Rating(user=732, product=242, rating=5.08519191499628),\n",
       " Rating(user=136, product=242, rating=5.072846372076523),\n",
       " Rating(user=477, product=242, rating=5.059262505227771),\n",
       " Rating(user=635, product=242, rating=5.057233937215429),\n",
       " Rating(user=531, product=242, rating=5.047178152484529),\n",
       " Rating(user=572, product=242, rating=5.033207866909738),\n",
       " Rating(user=696, product=242, rating=4.983076383202704),\n",
       " Rating(user=565, product=242, rating=4.982495353654086),\n",
       " Rating(user=233, product=242, rating=4.982387081841097),\n",
       " Rating(user=52, product=242, rating=4.972703199124819),\n",
       " Rating(user=464, product=242, rating=4.964174391349827),\n",
       " Rating(user=717, product=242, rating=4.957644685366311),\n",
       " Rating(user=770, product=242, rating=4.956490273206882),\n",
       " Rating(user=164, product=242, rating=4.940276096155461),\n",
       " Rating(user=711, product=242, rating=4.9252504792848555),\n",
       " Rating(user=122, product=242, rating=4.918455783701951),\n",
       " Rating(user=725, product=242, rating=4.900803517500638),\n",
       " Rating(user=252, product=242, rating=4.86641961111337),\n",
       " Rating(user=636, product=242, rating=4.863492520031633),\n",
       " Rating(user=613, product=242, rating=4.852732160298256),\n",
       " Rating(user=582, product=242, rating=4.83765531028242),\n",
       " Rating(user=30, product=242, rating=4.82829074725878),\n",
       " Rating(user=688, product=242, rating=4.826660051214034),\n",
       " Rating(user=891, product=242, rating=4.824024431375523),\n",
       " Rating(user=611, product=242, rating=4.820108720769407),\n",
       " Rating(user=657, product=242, rating=4.816208866166956),\n",
       " Rating(user=12, product=242, rating=4.812496477333724),\n",
       " Rating(user=288, product=242, rating=4.806878026697214),\n",
       " Rating(user=523, product=242, rating=4.805123876725119),\n",
       " Rating(user=672, product=242, rating=4.802020725690979),\n",
       " Rating(user=98, product=242, rating=4.789083763692559),\n",
       " Rating(user=296, product=242, rating=4.783317074837736),\n",
       " Rating(user=716, product=242, rating=4.778071959196872),\n",
       " Rating(user=651, product=242, rating=4.769893227758043),\n",
       " Rating(user=830, product=242, rating=4.758543894549184),\n",
       " Rating(user=524, product=242, rating=4.756573449114336),\n",
       " Rating(user=909, product=242, rating=4.754312902254657),\n",
       " Rating(user=286, product=242, rating=4.752503434818347),\n",
       " Rating(user=139, product=242, rating=4.748509404516921),\n",
       " Rating(user=936, product=242, rating=4.740074150342995),\n",
       " Rating(user=888, product=242, rating=4.732223892761258),\n",
       " Rating(user=331, product=242, rating=4.730571464966458),\n",
       " Rating(user=58, product=242, rating=4.728503187494564),\n",
       " Rating(user=558, product=242, rating=4.7283584653542),\n",
       " Rating(user=801, product=242, rating=4.726213018454967),\n",
       " Rating(user=433, product=242, rating=4.723107597861144),\n",
       " Rating(user=236, product=242, rating=4.720442614453241),\n",
       " Rating(user=199, product=242, rating=4.718135276711056),\n",
       " Rating(user=8, product=242, rating=4.717553549151482),\n",
       " Rating(user=923, product=242, rating=4.712906082089052),\n",
       " Rating(user=931, product=242, rating=4.707661025593623),\n",
       " Rating(user=173, product=242, rating=4.693300222989997),\n",
       " Rating(user=701, product=242, rating=4.69177305980477),\n",
       " Rating(user=810, product=242, rating=4.6901558200952955),\n",
       " Rating(user=912, product=242, rating=4.689767531366147),\n",
       " Rating(user=274, product=242, rating=4.687519922802579),\n",
       " Rating(user=338, product=242, rating=4.685113826552553),\n",
       " Rating(user=600, product=242, rating=4.6816110574301995),\n",
       " Rating(user=415, product=242, rating=4.67753789955729),\n",
       " Rating(user=863, product=242, rating=4.675102163838467),\n",
       " Rating(user=583, product=242, rating=4.673629701810768),\n",
       " Rating(user=350, product=242, rating=4.673618136489747),\n",
       " Rating(user=679, product=242, rating=4.667810131677829),\n",
       " Rating(user=312, product=242, rating=4.659370973740094),\n",
       " Rating(user=628, product=242, rating=4.656325385329593),\n",
       " Rating(user=94, product=242, rating=4.6486669345452825)]"
      ]
     },
     "execution_count": 19,
     "metadata": {},
     "output_type": "execute_result"
    }
   ],
   "source": [
    "# For Product X, Find N Users to Sell To\n",
    "model.recommendUsers(242,100)"
   ]
  },
  {
   "cell_type": "code",
   "execution_count": 20,
   "metadata": {},
   "outputs": [
    {
     "data": {
      "text/plain": [
       "[Rating(user=196, product=793, rating=5.907701973624219),\n",
       " Rating(user=196, product=1495, rating=5.611960089810969),\n",
       " Rating(user=196, product=1164, rating=5.589479243117108),\n",
       " Rating(user=196, product=593, rating=5.518624752032652),\n",
       " Rating(user=196, product=1463, rating=5.516050313620706),\n",
       " Rating(user=196, product=867, rating=5.399117007753461),\n",
       " Rating(user=196, product=1251, rating=5.293851877548062),\n",
       " Rating(user=196, product=634, rating=5.232539427653386),\n",
       " Rating(user=196, product=814, rating=5.166743212217266),\n",
       " Rating(user=196, product=1605, rating=5.1490608700447815)]"
      ]
     },
     "execution_count": 20,
     "metadata": {},
     "output_type": "execute_result"
    }
   ],
   "source": [
    "# For User Y Find N Products to Promote\n",
    "model.recommendProducts(196,10)"
   ]
  },
  {
   "cell_type": "code",
   "execution_count": 21,
   "metadata": {},
   "outputs": [
    {
     "data": {
      "text/plain": [
       "3.579402990709257"
      ]
     },
     "execution_count": 21,
     "metadata": {},
     "output_type": "execute_result"
    }
   ],
   "source": [
    "#Predict Single Product for Single User\n",
    "model.predict(196, 242)"
   ]
  },
  {
   "cell_type": "code",
   "execution_count": 22,
   "metadata": {},
   "outputs": [],
   "source": [
    "# Predict Multi Users and Multi Products\n",
    "# Pre-Processing\n",
    "pred_input = train.map(lambda x:(x[0],x[1]))   "
   ]
  },
  {
   "cell_type": "code",
   "execution_count": 23,
   "metadata": {},
   "outputs": [],
   "source": [
    "# Lots of Predictions\n",
    "#Returns Ratings(user, item, prediction)\n",
    "pred = model.predictAll(pred_input) \n",
    "\n",
    "#Get Performance Estimate\n",
    "#Organize the data to make (user, product) the key)\n",
    "true_reorg = train.map(lambda x:((x[0],x[1]), x[2]))\n",
    "pred_reorg = pred.map(lambda x:((x[0],x[1]), x[2]))\n",
    "\n",
    "#Do the actual join\n",
    "true_pred = true_reorg.join(pred_reorg)"
   ]
  },
  {
   "cell_type": "code",
   "execution_count": 24,
   "metadata": {},
   "outputs": [
    {
     "name": "stdout",
     "output_type": "stream",
     "text": [
      "1.0423980853253052 1.020978983782382\n"
     ]
    }
   ],
   "source": [
    "\n",
    "#Need to be able to square root the Mean-Squared Error\n",
    "from math import sqrt\n",
    "\n",
    "MSE = true_pred.map(lambda r: (r[1][0] - r[1][1])**2).mean()\n",
    "RMSE = sqrt(MSE)#Results in 0.7629908117414474\n",
    "\n",
    "#Test Set Evaluation\n",
    "#More dense, but nothing we haven't done before\n",
    "test_input = test.map(lambda x:(x[0],x[1])) \n",
    "pred_test = model.predictAll(test_input)\n",
    "test_reorg = test.map(lambda x:((x[0],x[1]), x[2]))\n",
    "pred_reorg = pred_test.map(lambda x:((x[0],x[1]), x[2]))\n",
    "test_pred = test_reorg.join(pred_reorg)\n",
    "test_MSE = test_pred.map(lambda r: (r[1][0] - r[1][1])**2).mean()\n",
    "test_RMSE = sqrt(test_MSE)\n",
    "\n",
    "print(test_MSE, test_RMSE)"
   ]
  },
  {
   "cell_type": "code",
   "execution_count": 35,
   "metadata": {},
   "outputs": [],
   "source": [
    "#If you're happy, save your model!\n",
    "\n",
    "#model.save(sc,\"ml-model\")"
   ]
  },
  {
   "cell_type": "markdown",
   "metadata": {},
   "source": [
    "## Resources\n",
    "\n",
    "- (http://www.learnbymarketing.com/644/recsys-pyspark-als/)[http://www.learnbymarketing.com/644/recsys-pyspark-als/]\n",
    "\n",
    "Source of example code with more resources\n",
    "\n",
    "- (http://jmcauley.ucsd.edu/data/amazon/)[http://jmcauley.ucsd.edu/data/amazon/]\n",
    "\n",
    "cache of amazon data you can use to build recommendation systems"
   ]
  },
  {
   "cell_type": "code",
   "execution_count": null,
   "metadata": {},
   "outputs": [],
   "source": []
  }
 ],
 "metadata": {
  "kernelspec": {
   "display_name": "Python 3",
   "language": "python",
   "name": "python3"
  },
  "language_info": {
   "codemirror_mode": {
    "name": "ipython",
    "version": 3
   },
   "file_extension": ".py",
   "mimetype": "text/x-python",
   "name": "python",
   "nbconvert_exporter": "python",
   "pygments_lexer": "ipython3",
   "version": "3.7.3"
  }
 },
 "nbformat": 4,
 "nbformat_minor": 2
}
